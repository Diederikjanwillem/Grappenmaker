{
 "cells": [
  {
   "cell_type": "markdown",
   "metadata": {},
   "source": [
    "# Iterations\n",
    "\n",
    "We often use programming to apply the same procedure on different values. For instance, think about check all students to decide who has graduated. The procedure might consist of counting their credits and checking if they have enough, and the same procedure should be repeated for every student. For this purpose, we can program a loop that repeats an action. By using variables, we can make the code within the loop adapt to changing values, for instance results by a single student.\n",
    "\n",
    "An iteration is also called a loop. The most basic case is a `for in` loop, in which a variable iterates over a set of values. The lines that are repeated are put in an indented code block. The first line that breaks the indentation, ends the code block. This line is not executed until all values are processed by the for loop."
   ]
  },
  {
   "cell_type": "markdown",
   "metadata": {},
   "source": [
    "# Examples"
   ]
  },
  {
   "cell_type": "code",
   "execution_count": null,
   "metadata": {},
   "outputs": [],
   "source": [
    "for i in [2, 3, 9, 8]: # the values in the List are iterated over in the order they are listed\n",
    "    print(i)           \n",
    "print('finished')"
   ]
  },
  {
   "cell_type": "markdown",
   "metadata": {},
   "source": [
    "# Assignments"
   ]
  },
  {
   "cell_type": "markdown",
   "metadata": {},
   "source": [
    "#### Add all `numbers` together in a variable `total`"
   ]
  },
  {
   "cell_type": "code",
   "execution_count": 2,
   "metadata": {
    "tags": []
   },
   "outputs": [],
   "source": [
    "numbers = [ 23, 4, 1, 2 ]"
   ]
  },
  {
   "cell_type": "code",
   "execution_count": 11,
   "metadata": {
    "deletable": false,
    "editable": true,
    "tags": []
   },
   "outputs": [
    {
     "name": "stdout",
     "output_type": "stream",
     "text": [
      "2\n"
     ]
    }
   ],
   "source": [
    "%%assignment\n",
    "### ENTER YOUR CODE HERE\n",
    "total = 0\n",
    "for x in numbers:\n",
    "    total += x\n",
    "    \n",
    "print(total)\n"
   ]
  },
  {
   "cell_type": "code",
   "execution_count": 12,
   "metadata": {
    "deletable": false,
    "editable": false,
    "tags": []
   },
   "outputs": [
    {
     "name": "stdout",
     "output_type": "stream",
     "text": [
      "30\n",
      "2\n"
     ]
    },
    {
     "data": {
      "text/html": [
       "<table><tr style=\"background: green; color: white\"><td style=\"text-align:left\">Correct!</td></tr></table>"
      ],
      "text/plain": [
       "<IPython.core.display.HTML object>"
      ]
     },
     "metadata": {
      "text/html": {
       "username": "s23056355"
      }
     },
     "output_type": "display_data"
    }
   ],
   "source": [
    "%%check\n",
    "numbers = [ 23, 4, 1, 2 ]\n",
    "total == 30\n",
    "numbers = [ 2 ]\n",
    "total == 2"
   ]
  },
  {
   "cell_type": "markdown",
   "metadata": {},
   "source": [
    "#### Multiply all `numbers` in a variable `product`"
   ]
  },
  {
   "cell_type": "code",
   "execution_count": 22,
   "metadata": {
    "tags": []
   },
   "outputs": [],
   "source": [
    "numbers = [ 1, 2, 3, 4 ]"
   ]
  },
  {
   "cell_type": "code",
   "execution_count": 24,
   "metadata": {
    "deletable": false,
    "editable": true,
    "tags": []
   },
   "outputs": [
    {
     "name": "stdout",
     "output_type": "stream",
     "text": [
      "24\n"
     ]
    }
   ],
   "source": [
    "%%assignment\n",
    "### ENTER YOUR CODE HERE\n",
    "product = 1\n",
    "for c in numbers:\n",
    "    product = product *c\n",
    "    \n",
    "print(product)"
   ]
  },
  {
   "cell_type": "code",
   "execution_count": 25,
   "metadata": {
    "deletable": false,
    "editable": false,
    "tags": []
   },
   "outputs": [
    {
     "name": "stdout",
     "output_type": "stream",
     "text": [
      "24\n",
      "10\n"
     ]
    },
    {
     "data": {
      "text/html": [
       "<table><tr style=\"background: green; color: white\"><td style=\"text-align:left\">Correct!</td></tr></table>"
      ],
      "text/plain": [
       "<IPython.core.display.HTML object>"
      ]
     },
     "metadata": {
      "text/html": {
       "username": "s23056355"
      }
     },
     "output_type": "display_data"
    }
   ],
   "source": [
    "%%check\n",
    "numbers = [ 1, 2, 3, 4 ]\n",
    "product == 24\n",
    "numbers = [ 2, 5 ]\n",
    "product == 10"
   ]
  },
  {
   "cell_type": "markdown",
   "metadata": {},
   "source": [
    "#### Convert all amounts in `amount_euro` to dollars, by multiplying them with 1.2 and puttin them in a List `amount_dollar`"
   ]
  },
  {
   "cell_type": "code",
   "execution_count": 46,
   "metadata": {
    "tags": []
   },
   "outputs": [],
   "source": [
    "amount_euro = [ 1, 2, 3, 4]"
   ]
  },
  {
   "cell_type": "code",
   "execution_count": 47,
   "metadata": {
    "deletable": false,
    "editable": true,
    "tags": []
   },
   "outputs": [
    {
     "name": "stdout",
     "output_type": "stream",
     "text": [
      "[1.2, 2.4, 3.5999999999999996, 4.8]\n"
     ]
    }
   ],
   "source": [
    "%%assignment\n",
    "### ENTER YOUR CODE HERE\n",
    "amount_dollar =  []\n",
    "for euro in amount_euro:\n",
    "    dollar = euro * 1.2\n",
    "    amount_dollar.append(dollar)\n",
    "    \n",
    "    \n",
    "print(amount_dollar)"
   ]
  },
  {
   "cell_type": "code",
   "execution_count": 48,
   "metadata": {
    "deletable": false,
    "editable": false,
    "tags": []
   },
   "outputs": [
    {
     "name": "stdout",
     "output_type": "stream",
     "text": [
      "[1.2, 2.4]\n",
      "[4.8]\n"
     ]
    },
    {
     "data": {
      "text/html": [
       "<table><tr style=\"background: green; color: white\"><td style=\"text-align:left\">Correct!</td></tr></table>"
      ],
      "text/plain": [
       "<IPython.core.display.HTML object>"
      ]
     },
     "metadata": {
      "text/html": {
       "username": "s23056355"
      }
     },
     "output_type": "display_data"
    }
   ],
   "source": [
    "%%check\n",
    "amount_euro = [ 1, 2 ]\n",
    "amount_dollar == [ 1.2, 2.4 ]\n",
    "amount_euro = [ 4 ]\n",
    "amount_dollar == [ 4.8 ]"
   ]
  },
  {
   "cell_type": "markdown",
   "metadata": {},
   "source": [
    "# Done? Then make a backup using Git, and close and shutdown this notebook (File->Close And Shutdown Notebook)"
   ]
  }
 ],
 "metadata": {
  "celltoolbar": "Create Assignment",
  "kernelspec": {
   "display_name": "prog",
   "language": "python",
   "name": "prog"
  },
  "language_info": {
   "codemirror_mode": {
    "name": "ipython",
    "version": 3
   },
   "file_extension": ".py",
   "mimetype": "text/x-python",
   "name": "python",
   "nbconvert_exporter": "python",
   "pygments_lexer": "ipython3",
   "version": "3.10.12"
  }
 },
 "nbformat": 4,
 "nbformat_minor": 4
}
