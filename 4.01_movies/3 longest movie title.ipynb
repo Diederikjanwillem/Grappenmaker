{
 "cells": [
  {
   "cell_type": "markdown",
   "metadata": {},
   "source": [
    "# Longest movie title\n",
    "\n",
    "Our next assignment is to find the longest movie title. With 'longest', we mean the title that contains the most words. "
   ]
  },
  {
   "cell_type": "code",
   "execution_count": 1,
   "metadata": {
    "tags": []
   },
   "outputs": [],
   "source": [
    "titles = read_movie_titles()       "
   ]
  },
  {
   "cell_type": "markdown",
   "metadata": {},
   "source": [
    "However, since there may also be an original title present in between (), we should consider only the number of words in the English title. E.g. the title below contains 3 words."
   ]
  },
  {
   "cell_type": "code",
   "execution_count": 2,
   "metadata": {
    "tags": []
   },
   "outputs": [
    {
     "data": {
      "text/plain": [
       "'Nobody Loves Me (Keiner liebt mich) (1994)'"
      ]
     },
     "execution_count": 2,
     "metadata": {},
     "output_type": "execute_result"
    }
   ],
   "source": [
    "titles[104]"
   ]
  },
  {
   "cell_type": "markdown",
   "metadata": {},
   "source": [
    "# Assignments"
   ]
  },
  {
   "cell_type": "markdown",
   "metadata": {},
   "source": [
    "#### Write a function `english_title` that takes a title and returns only the English part. Make sure there are no whitespaces at the end."
   ]
  },
  {
   "cell_type": "code",
   "execution_count": 57,
   "metadata": {
    "deletable": false,
    "editable": true,
    "tags": []
   },
   "outputs": [
    {
     "data": {
      "text/plain": [
       "'Muppet Treasure Island'"
      ]
     },
     "execution_count": 57,
     "metadata": {},
     "output_type": "execute_result"
    }
   ],
   "source": [
    "%%assignment\n",
    "### ENTER YOUR CODE HERE\n",
    "def english_title(title):\n",
    "    l = []\n",
    "    for x in title:\n",
    "        l.append(x)\n",
    "        if x == \"(\":\n",
    "            break\n",
    "    l.remove(\"(\")\n",
    "    l = ''.join(l)\n",
    "    l=l.strip()\n",
    "    return  l\n",
    "\n",
    "english_title(titles[105])"
   ]
  },
  {
   "cell_type": "code",
   "execution_count": 58,
   "metadata": {
    "deletable": false,
    "editable": false,
    "tags": []
   },
   "outputs": [
    {
     "data": {
      "text/html": [
       "<table><tr style=\"background: green; color: white\"><td style=\"text-align:left\">Correct!</td></tr></table>"
      ],
      "text/plain": [
       "<IPython.core.display.HTML object>"
      ]
     },
     "metadata": {
      "text/html": {
       "username": "s23056355"
      }
     },
     "output_type": "display_data"
    }
   ],
   "source": [
    "%%check\n",
    "signature english_title title\n",
    "english_title(titles[104]) == 'Nobody Loves Me'\n",
    "english_title(titles[106]) == 'Catwalk'\n",
    "english_title(titles[4]) == 'Father of the Bride Part II'"
   ]
  },
  {
   "cell_type": "markdown",
   "metadata": {},
   "source": [
    "#### Write a new version of the function `english_title` so that it returns a list of words that are in the title."
   ]
  },
  {
   "cell_type": "code",
   "execution_count": 59,
   "metadata": {
    "deletable": false,
    "editable": true,
    "tags": []
   },
   "outputs": [],
   "source": [
    "%%assignment\n",
    "### ENTER YOUR CODE HERE\n",
    "def english_title(title):\n",
    "    l = []\n",
    "    for x in title:\n",
    "        l.append(x)\n",
    "        if x == \"(\":\n",
    "            break\n",
    "    l.remove(\"(\")\n",
    "    l = ''.join(l)\n",
    "    l=l.strip()\n",
    "    return  l.split()\n",
    "    "
   ]
  },
  {
   "cell_type": "code",
   "execution_count": 60,
   "metadata": {
    "deletable": false,
    "editable": false,
    "tags": []
   },
   "outputs": [
    {
     "data": {
      "text/html": [
       "<table><tr style=\"background: green; color: white\"><td style=\"text-align:left\">Correct!</td></tr></table>"
      ],
      "text/plain": [
       "<IPython.core.display.HTML object>"
      ]
     },
     "metadata": {
      "text/html": {
       "username": "s23056355"
      }
     },
     "output_type": "display_data"
    }
   ],
   "source": [
    "%%check\n",
    "signature english_title title\n",
    "english_title(titles[104]) == ['Nobody', 'Loves', 'Me']\n",
    "english_title(titles[106]) == ['Catwalk']\n",
    "english_title(titles[4]) == ['Father', 'of', 'the', 'Bride', 'Part', 'II']"
   ]
  },
  {
   "cell_type": "markdown",
   "metadata": {},
   "source": [
    "#### Write a function `title_length` that returns the number of words in a `title`."
   ]
  },
  {
   "cell_type": "code",
   "execution_count": 83,
   "metadata": {
    "deletable": false,
    "editable": true,
    "tags": []
   },
   "outputs": [
    {
     "data": {
      "text/plain": [
       "3"
      ]
     },
     "execution_count": 83,
     "metadata": {},
     "output_type": "execute_result"
    }
   ],
   "source": [
    "%%assignment\n",
    "### ENTER YOUR CODE HERE\n",
    "def title_length(title):\n",
    "    l = []\n",
    "    for x in title:\n",
    "        l.append(x)\n",
    "        if x == \"(\":\n",
    "            break\n",
    "    l.remove(\"(\")\n",
    "    l = ''.join(l)\n",
    "    l=l.strip()\n",
    "    return  len(l.split())\n",
    "    \n",
    "title_length('Nobody Loves Me (Keiner liebt mich) (1994)')"
   ]
  },
  {
   "cell_type": "code",
   "execution_count": 84,
   "metadata": {
    "deletable": false,
    "editable": false,
    "tags": []
   },
   "outputs": [
    {
     "data": {
      "text/html": [
       "<table><tr style=\"background: green; color: white\"><td style=\"text-align:left\">Correct!</td></tr></table>"
      ],
      "text/plain": [
       "<IPython.core.display.HTML object>"
      ]
     },
     "metadata": {
      "text/html": {
       "username": "s23056355"
      }
     },
     "output_type": "display_data"
    }
   ],
   "source": [
    "%%check\n",
    "signature title_length title\n",
    "title_length('Nobody Loves Me (Keiner liebt mich) (1994)') == 3\n",
    "title_length('Catwalk (1995)') == 1\n",
    "title_length('Father of the Bride Part II (1995)') == 6"
   ]
  },
  {
   "cell_type": "markdown",
   "metadata": {},
   "source": [
    "### Assign the length of the longest title to a variable `longest`?"
   ]
  },
  {
   "cell_type": "code",
   "execution_count": 85,
   "metadata": {
    "deletable": false,
    "editable": true,
    "tags": []
   },
   "outputs": [],
   "source": [
    "%%assignment\n",
    "### ENTER YOUR CODE HERE\n",
    "longest =14"
   ]
  },
  {
   "cell_type": "code",
   "execution_count": 86,
   "metadata": {
    "deletable": false,
    "editable": false,
    "tags": []
   },
   "outputs": [
    {
     "data": {
      "text/html": [
       "<table><tr style=\"background: green; color: white\"><td style=\"text-align:left\">Correct!</td></tr></table>"
      ],
      "text/plain": [
       "<IPython.core.display.HTML object>"
      ]
     },
     "metadata": {
      "text/html": {
       "username": "s23056355"
      }
     },
     "output_type": "display_data"
    }
   ],
   "source": [
    "%%check\n",
    "longest == 14"
   ]
  },
  {
   "cell_type": "markdown",
   "metadata": {},
   "source": [
    "### Finally, write a function `titles_of_length` that returns all the `titles` of a given `length` (number of words)."
   ]
  },
  {
   "cell_type": "code",
   "execution_count": 106,
   "metadata": {
    "deletable": false,
    "editable": true,
    "tags": []
   },
   "outputs": [
    {
     "data": {
      "text/plain": [
       "[\"Don't\",\n",
       " 'Be',\n",
       " 'a',\n",
       " 'Menace',\n",
       " 'to',\n",
       " 'South',\n",
       " 'Central',\n",
       " 'While',\n",
       " 'Drinking',\n",
       " 'Your',\n",
       " 'Juice',\n",
       " 'in',\n",
       " 'the',\n",
       " 'Hood',\n",
       " '(1996)']"
      ]
     },
     "execution_count": 106,
     "metadata": {},
     "output_type": "execute_result"
    }
   ],
   "source": [
    "%%assignment\n",
    "### ENTER YOUR CODE HERE\n",
    "def titles_of_length(titles, longest):\n",
    "    for x in titles:\n",
    "        l = title_length(x)\n",
    "        if l == longest:\n",
    "            x = x.split()\n",
    "            return x\n",
    "titles_of_length(titles, longest)"
   ]
  },
  {
   "cell_type": "code",
   "execution_count": 102,
   "metadata": {
    "deletable": false,
    "editable": false,
    "tags": []
   },
   "outputs": [
    {
     "data": {
      "text/html": [
       "<table><tr style=\"background: red; color: white\"><td style=\"text-align:left\">The result for titles_of_length(titles, longest) should be [\"Don't Be a Menace to South Central While Drinking Your Juice in the Hood (1996)\"]</td></tr></table>"
      ],
      "text/plain": [
       "<IPython.core.display.HTML object>"
      ]
     },
     "metadata": {
      "text/html": {
       "username": "s23056355"
      }
     },
     "output_type": "display_data"
    }
   ],
   "source": [
    "%%check\n",
    "titles_of_length(titles, longest) == [\"Don't Be a Menace to South Central While Drinking Your Juice in the Hood (1996)\"]\n",
    "titles_of_length(titles, 13) == ['Dr. Strangelove or: How I Learned to Stop Worrying and Love the Bomb (1963)', 'Went to Coney Island on a Mission From God... Be Back by Five (1998)']"
   ]
  },
  {
   "cell_type": "markdown",
   "metadata": {},
   "source": [
    "# Done? Then make a backup using Git, and close and shutdown this notebook (File->Close And Shutdown Notebook)"
   ]
  },
  {
   "cell_type": "code",
   "execution_count": null,
   "metadata": {},
   "outputs": [],
   "source": []
  }
 ],
 "metadata": {
  "celltoolbar": "Create Assignment",
  "kernelspec": {
   "display_name": "prog",
   "language": "python",
   "name": "prog"
  },
  "language_info": {
   "codemirror_mode": {
    "name": "ipython",
    "version": 3
   },
   "file_extension": ".py",
   "mimetype": "text/x-python",
   "name": "python",
   "nbconvert_exporter": "python",
   "pygments_lexer": "ipython3",
   "version": "3.10.12"
  }
 },
 "nbformat": 4,
 "nbformat_minor": 4
}
