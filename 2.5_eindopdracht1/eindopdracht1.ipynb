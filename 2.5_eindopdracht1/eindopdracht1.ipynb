{
 "cells": [
  {
   "cell_type": "markdown",
   "metadata": {},
   "source": [
    "This is the final exercise that applies the topics that were presented until now to automatically calculate the change from a cash transaction. Note that here the solution is not checked automatically. However, it is strongly recommended to check the results you get in each step! Your code will be tested for the return of different amounts of change.\n",
    "\n",
    "**The section labeled 'Extension' is required to get the `G` grade.**"
   ]
  },
  {
   "cell_type": "markdown",
   "metadata": {},
   "source": [
    "# Compute change"
   ]
  },
  {
   "cell_type": "markdown",
   "metadata": {},
   "source": [
    "Suppose that a person has to pay € 16.10 and pays with a € 20 bill. We'll write a program that gives the change in the minimum number of coins. In this case, 1 € 2 coin, 1 € 1 coin, 1 € 0.50 coin and 2 € 0.20 coins.\n",
    "\n",
    "Note: to avoid rounding problems, we will compute in cents, therefore someone has to pay 1610 cents and pays with a 2000 cents bill.\n",
    "\n",
    "**Hint** \n",
    "the modulo operator (`%`) determines the remainder after division (e.g. `7 % 3=1`), and integer division operator (`//`) does division rounded down to the nearest integer (e.g. `7//3=2`). Both operators will come in handy."
   ]
  },
  {
   "cell_type": "markdown",
   "metadata": {},
   "source": [
    "#### First write an expression that computes the difference between amount and paid, this is the total sum that should be returned. Name the difference `change`."
   ]
  },
  {
   "cell_type": "code",
   "execution_count": 1,
   "metadata": {
    "tags": []
   },
   "outputs": [],
   "source": [
    "amount = 1610\n",
    "paid = 2000"
   ]
  },
  {
   "cell_type": "code",
   "execution_count": 2,
   "metadata": {
    "tags": []
   },
   "outputs": [],
   "source": [
    "### WRITE YOUR CODE HERE \n",
    "def compute_change(amount_to_be_paid, amount_paid):\n",
    "    change = amount_paid - amount_to_be_paid\n",
    "    return change \n"
   ]
  },
  {
   "cell_type": "code",
   "execution_count": 3,
   "metadata": {
    "tags": []
   },
   "outputs": [
    {
     "name": "stdout",
     "output_type": "stream",
     "text": [
      "390\n"
     ]
    }
   ],
   "source": [
    "### CHECK YOUR CODE HERE \n",
    "print(compute_change(amount,paid))\n"
   ]
  },
  {
   "cell_type": "markdown",
   "metadata": {},
   "source": [
    "### compute the number of € 2 coins (200 cents) that will fit into the amount of change"
   ]
  },
  {
   "cell_type": "code",
   "execution_count": 10,
   "metadata": {
    "tags": []
   },
   "outputs": [],
   "source": [
    "amount = 1610\n",
    "paid = 2000"
   ]
  },
  {
   "cell_type": "code",
   "execution_count": 6,
   "metadata": {},
   "outputs": [],
   "source": [
    "### WRITE YOUR CODE HERE \n",
    "change = compute_change(amount,paid)\n",
    "\n",
    "def two(chng):\n",
    "    return chng//200"
   ]
  },
  {
   "cell_type": "code",
   "execution_count": 7,
   "metadata": {},
   "outputs": [
    {
     "data": {
      "text/plain": [
       "1"
      ]
     },
     "execution_count": 7,
     "metadata": {},
     "output_type": "execute_result"
    }
   ],
   "source": [
    "two(change)"
   ]
  },
  {
   "cell_type": "markdown",
   "metadata": {},
   "source": [
    "### After you have given the right number of € 2 coins how much change do you still have to return?"
   ]
  },
  {
   "cell_type": "code",
   "execution_count": null,
   "metadata": {},
   "outputs": [],
   "source": [
    "amount = 1610\n",
    "paid = 2000"
   ]
  },
  {
   "cell_type": "code",
   "execution_count": 8,
   "metadata": {},
   "outputs": [],
   "source": [
    "def rest(change):\n",
    "    return (change - 200*two(change) )"
   ]
  },
  {
   "cell_type": "code",
   "execution_count": 9,
   "metadata": {},
   "outputs": [
    {
     "data": {
      "text/plain": [
       "190"
      ]
     },
     "execution_count": 9,
     "metadata": {},
     "output_type": "execute_result"
    }
   ],
   "source": [
    "rest(change)"
   ]
  },
  {
   "cell_type": "markdown",
   "metadata": {},
   "source": [
    "### From the amount of change that is left after returning the € 2 coins, compute how many € 1 coins you should return.\n",
    "\n",
    "Hint: you can use several lines of programming code. Compute the amount that is left after returning the € 2 coins and store it in a variable `left`. Then using the value in `left` compute the number of € 1 coins you can return."
   ]
  },
  {
   "cell_type": "code",
   "execution_count": null,
   "metadata": {},
   "outputs": [],
   "source": [
    "amount = 1610\n",
    "paid = 2000"
   ]
  },
  {
   "cell_type": "code",
   "execution_count": 10,
   "metadata": {},
   "outputs": [],
   "source": [
    "### WRITE YOUR CODE HERE \n",
    "def one(change):\n",
    "    return rest(change)//100\n",
    "\n"
   ]
  },
  {
   "cell_type": "code",
   "execution_count": 11,
   "metadata": {},
   "outputs": [
    {
     "data": {
      "text/plain": [
       "1"
      ]
     },
     "execution_count": 11,
     "metadata": {},
     "output_type": "execute_result"
    }
   ],
   "source": [
    "one(change)"
   ]
  },
  {
   "cell_type": "markdown",
   "metadata": {},
   "source": [
    "Do you now know how to determine the number of 50 cent coins that are returned? And the number of 20 cent coins? Notice that you keep repeating the same steps. To write these out for each type of coin takes some work and is difficult to read. That's why we'll do it using a loop.\n",
    "\n",
    "#### Compute the minimum number of `total_coins` that must be returned as change using a loop. You may use the coin values in the list `coins`.\n",
    "\n",
    "e.g. for change = 45 you should set total_coins to 3 (2 coins of 20 cents and 1 coin of 5 cents)\n",
    "\n",
    "Hint: examine the steps you did to determine the number of 2 euro and 1 euro coins above."
   ]
  },
  {
   "cell_type": "code",
   "execution_count": 9,
   "metadata": {},
   "outputs": [
    {
     "name": "stdout",
     "output_type": "stream",
     "text": [
      "4\n"
     ]
    }
   ],
   "source": [
    "amount = 765   # amount to be paid in cents\n",
    "paid = 1000    # amount paid in cents (i.e. a 10 bill)\n",
    "\n",
    "coins = [200, 100, 50, 20, 10, 5]\n",
    "n=0\n",
    "diff = paid-amount\n",
    "for i in coins:\n",
    "    j=diff//i\n",
    "    n+=j\n",
    "    diff -= j*i\n",
    "print(n)\n"
   ]
  },
  {
   "cell_type": "code",
   "execution_count": 10,
   "metadata": {},
   "outputs": [],
   "source": [
    "### WRITE YOUR CODE HERE \n"
   ]
  },
  {
   "cell_type": "code",
   "execution_count": 11,
   "metadata": {},
   "outputs": [],
   "source": [
    "## CHECK YOUR RESULT!"
   ]
  },
  {
   "cell_type": "markdown",
   "metadata": {},
   "source": [
    "### Extension\n",
    "The following assignment is not obligatory unless you want a **G** grade.\n",
    "\n",
    "Now suppose that there are a limited number of coins available of each value. We can write the number of available coins as a list:"
   ]
  },
  {
   "cell_type": "code",
   "execution_count": 12,
   "metadata": {},
   "outputs": [],
   "source": [
    "coins_available = [1,0,3,2,5,5]"
   ]
  },
  {
   "cell_type": "markdown",
   "metadata": {},
   "source": [
    "In the above list you have one 2 euro coin, no 1 euro coin, three 50 cent coins, two 20 cent coins, and five 10 cent and 5 cent coins. So `coins_available[0]` is the number of coins available with value `coins[0]`, `coins_available[1]` is the number of coins available with value `coins[1]`, etc. \n",
    "Improve your previous code by taking into account the number of coins available.  "
   ]
  },
  {
   "cell_type": "code",
   "execution_count": 24,
   "metadata": {},
   "outputs": [],
   "source": [
    "amount = 1610\n",
    "paid = 2200\n",
    "coins_available = [1,0,5,2,5,5]\n",
    "\n",
    "\n",
    "nt=[]\n",
    "diff = paid-amount\n",
    "for i,j in zip(coins,coins_available):\n",
    "    \n",
    "    nc=diff//i\n",
    "    if j >= nc:\n",
    "        nt.append(nc)\n",
    "        diff -= nc*i\n",
    "    elif j < nc:\n",
    "        nt.append(j)\n",
    "        diff -= i*j\n",
    "    \n",
    "        \n",
    "        \n",
    "    else:\n",
    "        nt.append(0)\n",
    "        continue\n"
   ]
  },
  {
   "cell_type": "code",
   "execution_count": 25,
   "metadata": {},
   "outputs": [
    {
     "data": {
      "text/plain": [
       "[1, 0, 5, 2, 5, 5]"
      ]
     },
     "execution_count": 25,
     "metadata": {},
     "output_type": "execute_result"
    }
   ],
   "source": [
    "### WRITE YOUR CODE HERE \n",
    "nt"
   ]
  },
  {
   "cell_type": "markdown",
   "metadata": {},
   "source": [
    "Let your code also print the which coins are returned as change. You can output text during a loop using the `print` command:"
   ]
  },
  {
   "cell_type": "code",
   "execution_count": 26,
   "metadata": {},
   "outputs": [
    {
     "name": "stdout",
     "output_type": "stream",
     "text": [
      "the square of 1 is 1\n",
      "the square of 2 is 4\n",
      "the square of 3 is 9\n",
      "the number of returned 200 coins is 1\n",
      "the number of returned 100 coins is 0\n",
      "the number of returned 50 coins is 5\n",
      "the number of returned 20 coins is 2\n",
      "the number of returned 10 coins is 5\n",
      "the number of returned 5 coins is 5\n"
     ]
    }
   ],
   "source": [
    "for i in [1, 2, 3]:\n",
    "    print(f'the square of {i} is {i**2}')\n",
    "    \n",
    "for i,j in zip(coins,nt):\n",
    "    print(f'the number of returned {i} coins is {j}')\n"
   ]
  },
  {
   "cell_type": "markdown",
   "metadata": {},
   "source": [
    "Only print the coins that are given as change!"
   ]
  },
  {
   "cell_type": "markdown",
   "metadata": {},
   "source": [
    "# Done? Then make a backup using Git, and close and shutdown this notebook (File->Close And Shutdown Notebook)"
   ]
  }
 ],
 "metadata": {
  "kernelspec": {
   "display_name": "prog",
   "language": "python",
   "name": "prog"
  },
  "language_info": {
   "codemirror_mode": {
    "name": "ipython",
    "version": 3
   },
   "file_extension": ".py",
   "mimetype": "text/x-python",
   "name": "python",
   "nbconvert_exporter": "python",
   "pygments_lexer": "ipython3",
   "version": "3.10.12"
  }
 },
 "nbformat": 4,
 "nbformat_minor": 4
}
