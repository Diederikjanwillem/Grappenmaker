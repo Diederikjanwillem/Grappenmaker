{
 "cells": [
  {
   "cell_type": "code",
   "execution_count": 6,
   "id": "e7fa34f6-ba9b-41e6-b2cb-7c9c6f84db57",
   "metadata": {
    "tags": []
   },
   "outputs": [],
   "source": [
    "import pandas as pd\n",
    "import numpy as np\n",
    "import random"
   ]
  },
  {
   "cell_type": "code",
   "execution_count": 7,
   "id": "3efe4ef1-a0d5-4f62-aec3-e9f225ca9d86",
   "metadata": {
    "tags": []
   },
   "outputs": [
    {
     "name": "stdout",
     "output_type": "stream",
     "text": [
      "C\n",
      "Antiek          12.5\n",
      "Geschiedenis    25.0\n",
      "Kerk            60.0\n",
      "Kunst            5.0\n",
      "Museum          55.0\n",
      "UItgaand         0.0\n",
      "Uitgaand        60.0\n",
      "toure           45.0\n",
      "winkel          15.0\n",
      "Name: T, dtype: float64\n",
      "C\n",
      "Antiek           25.0\n",
      "Geschiedenis     75.0\n",
      "Kerk            120.0\n",
      "Kunst             5.0\n",
      "Museum          165.0\n",
      "UItgaand          0.0\n",
      "Uitgaand         60.0\n",
      "toure            90.0\n",
      "winkel           15.0\n",
      "Name: T, dtype: float64\n"
     ]
    }
   ],
   "source": [
    "answers = []\n",
    "data = pd.read_csv(\"15 bezienswaardigheden - Sheet1.csv\")\n",
    "data = data.fillna(0)\n",
    "data.columns = [\"B\",\"L\",\"T\",\"C\",\"S\"]\n",
    "data = data[:16]\n",
    "data.sort_values([\"C\"],inplace=True)\n",
    "print((data.groupby(\"C\")[\"T\"].mean()))\n",
    "print((data.groupby(\"C\")[\"T\"].sum()))"
   ]
  },
  {
   "cell_type": "code",
   "execution_count": 5,
   "id": "55f0a16f-21bc-4e1b-9725-141f7421bcf0",
   "metadata": {
    "tags": []
   },
   "outputs": [],
   "source": [
    "list_of_categories = [x for x in data[\"C\"].drop_duplicates()]"
   ]
  },
  {
   "cell_type": "code",
   "execution_count": 8,
   "id": "16a8baea-908d-4664-a6a8-ba95c8b85b3a",
   "metadata": {
    "tags": []
   },
   "outputs": [],
   "source": [
    "for i,j in zip(list_of_categories,answers):\n",
    "    if j == \"y\":\n",
    "       a = data.where(i ==data[\"C\"]).dropna()\n",
    "       print(a.sample())"
   ]
  },
  {
   "cell_type": "code",
   "execution_count": null,
   "id": "9512da0f-1e21-4064-8609-6d7df77e2ed7",
   "metadata": {},
   "outputs": [],
   "source": []
  }
 ],
 "metadata": {
  "kernelspec": {
   "display_name": "Python 3 (ipykernel)",
   "language": "python",
   "name": "python3"
  },
  "language_info": {
   "codemirror_mode": {
    "name": "ipython",
    "version": 3
   },
   "file_extension": ".py",
   "mimetype": "text/x-python",
   "name": "python",
   "nbconvert_exporter": "python",
   "pygments_lexer": "ipython3",
   "version": "3.10.12"
  }
 },
 "nbformat": 4,
 "nbformat_minor": 5
}
