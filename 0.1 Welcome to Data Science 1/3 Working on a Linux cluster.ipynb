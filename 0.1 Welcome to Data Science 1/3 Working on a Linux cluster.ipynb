{
 "cells": [
  {
   "cell_type": "markdown",
   "id": "ddefe9e2",
   "metadata": {},
   "source": [
    "# Working on a Linux cluster\n",
    "The exercises for this course (and all Data Science courses) are run on a server, which is a real computer in The Hague that you connect with through the network. By using this server, we can ensure that each student can use the same version of Python for running the code and thus reduce technical difficulties. Furthermore, we have a second server with a powerful GPU that is used for the advanced AI courses. \n",
    "\n",
    "Linux is an operating system like Windows or macOS, but open-source and used a lot for running servers. You don't need a lot of knowledge on Linux to complete the exercises of this course, but for some cases it's good to know some basic commands, specifically for when:\n",
    "- you accidentally remove or corrupt exercise file(s), and you want to reload these files.\n",
    "- you want to make your own code project, such as for the Rondje Delft project.\n",
    "- you want to setup a backup of your code using Git. \n",
    "\n",
    "Linux commands are typically run in a terminal (also called \"command line\"). You can access a terminal by pressing `File->New->Terminal` in the top-left. This will open a new terminal window to which you can switch. Try it out!"
   ]
  },
  {
   "cell_type": "markdown",
   "id": "babb4880-ac2f-4fab-a96b-a2558745bc63",
   "metadata": {},
   "source": [
    "Here are some basic commands that you can run in the terminal.\n",
    "\n",
    "| function | meaning | \n",
    "| :------- | :------ |\n",
    "| `ls`       | list files in current directory\n",
    "| `pwd`      | print working directory\n",
    "| `cd`       | change directory\n",
    "| `mkdir`    | make directory\n",
    "| `cp`       | copy file\n",
    "| `mv`       | move file\n",
    "| `rm`       | remove file\n",
    "\n",
    "We can also run command-line functions directly from a Jupyter Notebook such as the one your in now. This is done by placing a `!` before the command, like this:"
   ]
  },
  {
   "cell_type": "code",
   "execution_count": 1,
   "id": "f623abf5",
   "metadata": {
    "tags": []
   },
   "outputs": [
    {
     "name": "stdout",
     "output_type": "stream",
     "text": [
      "/data/ds1/answers/0.1 Welcome to Data Science 1\n"
     ]
    }
   ],
   "source": [
    "!pwd # print your current directory"
   ]
  },
  {
   "cell_type": "markdown",
   "id": "aa45ce84",
   "metadata": {},
   "source": [
    "### Try it yourself and list the files in the current directory"
   ]
  },
  {
   "cell_type": "code",
   "execution_count": 4,
   "id": "5944fa05-1a85-4691-bc3c-359eb19f1310",
   "metadata": {
    "tags": []
   },
   "outputs": [],
   "source": [
    "### ENTER YOUR CODE HERE OR IN THE TERMINAL"
   ]
  },
  {
   "cell_type": "markdown",
   "id": "6310807c",
   "metadata": {},
   "source": [
    "Most options have some options that you can set or require some arguments, such as the name of the file that you want to copy. You can see the options and required arguments by adding `--help` or `-h` to a function:"
   ]
  },
  {
   "cell_type": "code",
   "execution_count": 10,
   "id": "58eaefdf",
   "metadata": {},
   "outputs": [
    {
     "name": "stdout",
     "output_type": "stream",
     "text": [
      "Usage: mkdir [OPTION]... DIRECTORY...\n",
      "Create the DIRECTORY(ies), if they do not already exist.\n",
      "\n",
      "Mandatory arguments to long options are mandatory for short options too.\n",
      "  -m, --mode=MODE   set file mode (as in chmod), not a=rwx - umask\n",
      "  -p, --parents     no error if existing, make parent directories as needed\n",
      "  -v, --verbose     print a message for each created directory\n",
      "  -Z                   set SELinux security context of each created directory\n",
      "                         to the default type\n",
      "      --context[=CTX]  like -Z, or if CTX is specified then set the SELinux\n",
      "                         or SMACK security context to CTX\n",
      "      --help     display this help and exit\n",
      "      --version  output version information and exit\n",
      "\n",
      "GNU coreutils online help: <https://www.gnu.org/software/coreutils/>\n",
      "Full documentation <https://www.gnu.org/software/coreutils/mkdir>\n",
      "or available locally via: info '(coreutils) mkdir invocation'\n"
     ]
    }
   ],
   "source": [
    "!mkdir --help"
   ]
  },
  {
   "cell_type": "markdown",
   "id": "f421e511",
   "metadata": {},
   "source": [
    "### Make a new directory in the current directory"
   ]
  },
  {
   "cell_type": "code",
   "execution_count": 11,
   "id": "7090a076",
   "metadata": {},
   "outputs": [],
   "source": [
    "### ENTER YOUR CODE HERE OR IN THE TERMINAL"
   ]
  },
  {
   "cell_type": "markdown",
   "id": "5515bd22",
   "metadata": {},
   "source": [
    "### Copy the file `testfile.txt` to create `testfile2.txt` in the same directory"
   ]
  },
  {
   "cell_type": "code",
   "execution_count": null,
   "id": "7a84e25a",
   "metadata": {},
   "outputs": [],
   "source": [
    "### ENTER YOUR CODE HERE OR IN THE TERMINAL"
   ]
  },
  {
   "cell_type": "markdown",
   "id": "16a4d3fa",
   "metadata": {},
   "source": [
    "### Check if both files and the new directory exist in your current folder\n"
   ]
  },
  {
   "cell_type": "code",
   "execution_count": null,
   "id": "1aabb1f2",
   "metadata": {},
   "outputs": [],
   "source": [
    "### ENTER YOUR CODE HERE OR IN THE TERMINAL"
   ]
  },
  {
   "cell_type": "markdown",
   "id": "c7e10da7",
   "metadata": {},
   "source": [
    "### Now change your current directory to the new folder "
   ]
  },
  {
   "cell_type": "code",
   "execution_count": null,
   "id": "6ca6bb58",
   "metadata": {},
   "outputs": [],
   "source": [
    "### ENTER YOUR CODE HERE OR IN THE TERMINAL"
   ]
  },
  {
   "cell_type": "markdown",
   "id": "679be535",
   "metadata": {},
   "source": [
    "### Move `testfile2.txt` into your new folder\n",
    "Hint: you can use `..` as a shortcut to your parent folder, so `../testfile2.txt` is the file that you want to move."
   ]
  },
  {
   "cell_type": "code",
   "execution_count": null,
   "id": "6d85ff1d",
   "metadata": {},
   "outputs": [],
   "source": [
    "### ENTER YOUR CODE HERE OR IN THE TERMINAL"
   ]
  },
  {
   "cell_type": "markdown",
   "id": "85ac3253",
   "metadata": {},
   "source": [
    "### Now remove `testfile2.txt` "
   ]
  },
  {
   "cell_type": "code",
   "execution_count": null,
   "id": "6a86a36c",
   "metadata": {},
   "outputs": [],
   "source": [
    "### ENTER YOUR CODE HERE OR IN THE TERMINAL"
   ]
  },
  {
   "cell_type": "markdown",
   "id": "80fbc7f1",
   "metadata": {},
   "source": [
    "**Note that you're responsible for you own files, so be careful with removing things!**\n",
    "\n",
    "You can create directories for your coding projects in your home folder, but keep them separate from the data science exercises.\n",
    "\n",
    "That's it for the basics of the command line on Linux. If you want a more detailed introduction you can visit: https://ubuntu.com/tutorials/command-line-for-beginners\n",
    "\n",
    "We now recommend you to setup a backup of your files using Git. Read the description on BrightSpace on how to set this up.\n"
   ]
  },
  {
   "cell_type": "code",
   "execution_count": null,
   "id": "25acac71",
   "metadata": {},
   "outputs": [],
   "source": []
  }
 ],
 "metadata": {
  "kernelspec": {
   "display_name": "prog",
   "language": "python",
   "name": "prog"
  },
  "language_info": {
   "codemirror_mode": {
    "name": "ipython",
    "version": 3
   },
   "file_extension": ".py",
   "mimetype": "text/x-python",
   "name": "python",
   "nbconvert_exporter": "python",
   "pygments_lexer": "ipython3",
   "version": "3.10.12"
  }
 },
 "nbformat": 4,
 "nbformat_minor": 5
}
