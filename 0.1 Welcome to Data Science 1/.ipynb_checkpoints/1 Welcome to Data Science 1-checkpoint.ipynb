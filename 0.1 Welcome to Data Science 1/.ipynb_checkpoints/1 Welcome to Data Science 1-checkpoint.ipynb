{
 "cells": [
  {
   "cell_type": "markdown",
   "metadata": {},
   "source": [
    "# Welcome to data science 1\n",
    "\n",
    "Welcome to the course Data Science 1. Data Science is the study of data to extract meaningful information from this data. But the datasets are often too large and the models are too complex to do this on your own. So you need a computer to do the job. Programming is telling the computer what to do. Programming means writing lines of code which the computer can execute. It's a kind of 'computer language'. The computer can 'understand' this 'language' and will follow your 'orders'. There are different programming languages, one of them is Python. This course in an introduction to programming in Python.  \n",
    "New to programming? No worries! This course will guide you step by step.\n",
    "\n",
    "\n",
    "In this course you'll use Jupyter notebooks. A Jupyter notebook provides an easy way to write and execute your code."
   ]
  },
  {
   "cell_type": "markdown",
   "metadata": {},
   "source": [
    "\n",
    "## Let's get started!\n",
    "\n",
    "Traditionally, the first thing you learn when learning a programming language, is how to display the text \"Hello, World!\". In a Python Notebook, we can literally type 'Hello, World!' inbetween single or double quotes. To execute this code click on the cell en then:\n",
    " - click on Run on the menu bar\n",
    "             or\n",
    " - press Shift-Enter.\n",
    " \n",
    "#### Exercise 1: \n",
    "Execute the following code. The code 'Hello, World! is already given:"
   ]
  },
  {
   "cell_type": "code",
   "execution_count": 1,
   "metadata": {
    "tags": []
   },
   "outputs": [
    {
     "data": {
      "text/plain": [
       "'Hello, World!'"
      ]
     },
     "execution_count": 1,
     "metadata": {},
     "output_type": "execute_result"
    }
   ],
   "source": [
    "'Hello, World!'"
   ]
  },
  {
   "cell_type": "markdown",
   "metadata": {},
   "source": [
    "You can think of it as a calculator. The code in the grey box is the input of the 'calculation' you want to do. The calculation is actually done by running the code. The result is shown in the line below the code.\n",
    "\n",
    "#### Exercise 2:\n",
    "Tell the world who you are. Show the text: 'My name is \\<fill in your name>\\'"
   ]
  },
  {
   "cell_type": "markdown",
   "metadata": {
    "tags": []
   },
   "source": [
    "NB. A line starting with # is ignored. It won't be executed en it will not appear in the output. It is often used as an explanation of the code."
   ]
  },
  {
   "cell_type": "code",
   "execution_count": 2,
   "metadata": {
    "tags": []
   },
   "outputs": [
    {
     "name": "stdout",
     "output_type": "stream",
     "text": [
      "My name is Dirk Buzye\n"
     ]
    }
   ],
   "source": [
    "# Tell the world how you are. \n",
    "name = \"Dirk Buzye\"\n",
    "print(f\"My name is {name}\")\n"
   ]
  },
  {
   "cell_type": "markdown",
   "metadata": {
    "tags": []
   },
   "source": [
    "## Print\n",
    "\n",
    "Notebooks cells with Python code will automatically display only the result of the last line. You can see that when you run the next cell. \n"
   ]
  },
  {
   "cell_type": "code",
   "execution_count": 3,
   "metadata": {
    "tags": []
   },
   "outputs": [
    {
     "data": {
      "text/plain": [
       "3"
      ]
     },
     "execution_count": 3,
     "metadata": {},
     "output_type": "execute_result"
    }
   ],
   "source": [
    "2\n",
    "3"
   ]
  },
  {
   "cell_type": "markdown",
   "metadata": {},
   "source": [
    "Sometimes, you will want to display more results. For this, you can use the `print()` statement. In between the parenthesis (), you can list multiple things you want printed."
   ]
  },
  {
   "cell_type": "code",
   "execution_count": 4,
   "metadata": {
    "tags": []
   },
   "outputs": [
    {
     "name": "stdout",
     "output_type": "stream",
     "text": [
      "2\n",
      "3\n"
     ]
    }
   ],
   "source": [
    "print(2)\n",
    "print(3)"
   ]
  },
  {
   "cell_type": "code",
   "execution_count": 5,
   "metadata": {
    "tags": []
   },
   "outputs": [
    {
     "name": "stdout",
     "output_type": "stream",
     "text": [
      "2 3\n",
      "Hello, World!\n",
      "3.14\n",
      "2 3 Hello, World! 3.14\n"
     ]
    }
   ],
   "source": [
    "print(2, 3)\n",
    "print('Hello, World!')\n",
    "print(3.14)\n",
    "print(2, 3, 'Hello, World!', 3.14)"
   ]
  },
  {
   "cell_type": "markdown",
   "metadata": {},
   "source": [
    "Note: in these notebook assignments, anything output by print() is ignored when grading. So you may use this for the purpose of finding mistakes in your code."
   ]
  },
  {
   "cell_type": "markdown",
   "metadata": {
    "tags": []
   },
   "source": [
    "### Done? Please close your notebook with Close And Shutdown Notebook!\n",
    "\n",
    "Apologies, this is due to shared resources, if many many keep a lot of notebooks open at the same time, our server may become less responsive."
   ]
  },
  {
   "cell_type": "code",
   "execution_count": null,
   "metadata": {},
   "outputs": [],
   "source": []
  }
 ],
 "metadata": {
  "kernelspec": {
   "display_name": "prog",
   "language": "python",
   "name": "prog"
  },
  "language_info": {
   "codemirror_mode": {
    "name": "ipython",
    "version": 3
   },
   "file_extension": ".py",
   "mimetype": "text/x-python",
   "name": "python",
   "nbconvert_exporter": "python",
   "pygments_lexer": "ipython3",
   "version": "3.10.12"
  }
 },
 "nbformat": 4,
 "nbformat_minor": 4
}
