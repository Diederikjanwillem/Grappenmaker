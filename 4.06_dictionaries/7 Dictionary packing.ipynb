{
 "cells": [
  {
   "cell_type": "markdown",
   "metadata": {},
   "source": [
    "# Dictionary Packing\n",
    "\n",
    "In this chapter we discuss the packing in the context of dictionaries. We discussed packing earlier for [lists](../3.6_packing/1%20Packing.ipynb) and [functions](../3.6_packing/2%20Functions.ipynb) in section 3.6. Refresh your memory by reading your solutions there!"
   ]
  },
  {
   "cell_type": "markdown",
   "metadata": {},
   "source": [
    "#### Write code to capture the fields of a `person` in the variables `name`, `age` and the remainder in a dummy variable `_`"
   ]
  },
  {
   "cell_type": "code",
   "execution_count": null,
   "metadata": {},
   "outputs": [],
   "source": [
    "person = ('John', 23, 'Liverpool', 'Mathematics student', 'Male')"
   ]
  },
  {
   "cell_type": "code",
   "execution_count": null,
   "metadata": {
    "deletable": false,
    "editable": true
   },
   "outputs": [],
   "source": [
    "%%assignment\n",
    "### ENTER YOUR CODE HERE"
   ]
  },
  {
   "cell_type": "code",
   "execution_count": null,
   "metadata": {
    "deletable": false,
    "editable": false
   },
   "outputs": [],
   "source": [
    "%%check\n",
    "person = ('Isabelle', 22, 'Liverpool', 'Mathematics student', 'Male')\n",
    "name == 'Isabelle'\n",
    "age == 22\n",
    "person = ('John', 23, 'Liverpool', 'Mathematics student', 'Male')\n",
    "name == 'John'\n",
    "age == 23"
   ]
  },
  {
   "cell_type": "markdown",
   "metadata": {},
   "source": [
    "In `games` there are the name and point results of games that three friends have played. The point results are in the order in which they played the game.\n",
    "\n",
    "#### Write a Dictionary comprehension with the name of a player as key and the result of the last game as value. Use unpacking and do not use indexing.\n",
    "\n",
    "The answer for the gives case should be `{'Harry': 30, 'Jack': 27, 'Henry': 26}`"
   ]
  },
  {
   "cell_type": "code",
   "execution_count": null,
   "metadata": {},
   "outputs": [],
   "source": [
    "games = [('Harry', 20, 30), ('Jack', 25, 27), ('Henry', 28, 26)]"
   ]
  },
  {
   "cell_type": "code",
   "execution_count": null,
   "metadata": {
    "deletable": false,
    "editable": true
   },
   "outputs": [],
   "source": [
    "%%assignment\n",
    "### ENTER YOUR CODE HERE"
   ]
  },
  {
   "cell_type": "code",
   "execution_count": null,
   "metadata": {
    "deletable": false,
    "editable": false
   },
   "outputs": [],
   "source": [
    "%%check\n",
    "comprehension\n",
    "forbidden [ ]\n",
    "games = [('George', 20, 21, 25), ('Jack', 25, 30, 27), ('Henry', 22, 23, 28)]\n",
    "result == {'George': 25, 'Jack': 27, 'Henry': 28}\n",
    "games = [('Harry', 20, 30), ('Jack', 25, 27), ('Henry', 28, 26)]\n",
    "result == {'Harry': 30, 'Jack': 27, 'Henry': 26}"
   ]
  },
  {
   "cell_type": "markdown",
   "metadata": {},
   "source": [
    "In `games` there are the name and point results of games that three friends have played. The point results are in the order in which they played the game.\n",
    "\n",
    "#### Write a list comprehension that gives the average score for every player.\n",
    "\n",
    "The answer for the gives case should be `[('Harry', 25.0), ('Jack', 26.0), ('Henry', 27.0)]`\n",
    "\n",
    "Note: to write a comprehension with tuples as elements, use a tuple expression like `[ (a, b+c) for ... ]` where of course you need to write something else than a and b+c."
   ]
  },
  {
   "cell_type": "code",
   "execution_count": null,
   "metadata": {},
   "outputs": [],
   "source": [
    "games = [('Harry', 20, 30), ('Jack', 25, 27), ('Henry', 28, 26)]"
   ]
  },
  {
   "cell_type": "code",
   "execution_count": null,
   "metadata": {
    "deletable": false,
    "editable": true
   },
   "outputs": [],
   "source": [
    "%%assignment\n",
    "### ENTER YOUR CODE HERE"
   ]
  },
  {
   "cell_type": "code",
   "execution_count": null,
   "metadata": {
    "deletable": false,
    "editable": false
   },
   "outputs": [],
   "source": [
    "%%check\n",
    "comprehension\n",
    "games = [('George', 20, 21, 25), ('Jack', 25, 30, 26), ('Henry', 22, 23, 27)]\n",
    "result == [('George', 22.0), ('Jack', 27.0), ('Henry', 24.0)]\n",
    "games = [('Harry', 20, 30), ('Jack', 25, 27), ('Henry', 28, 26)]\n",
    "result == [('Harry', 25.0), ('Jack', 26.0), ('Henry', 27.0)]"
   ]
  },
  {
   "cell_type": "markdown",
   "metadata": {},
   "source": [
    "# Done? Then make a backup using Git, and close and shutdown this notebook (File->Close And Shutdown Notebook)"
   ]
  }
 ],
 "metadata": {
  "kernelspec": {
   "display_name": "prog",
   "language": "python",
   "name": "prog"
  },
  "language_info": {
   "codemirror_mode": {
    "name": "ipython",
    "version": 3
   },
   "file_extension": ".py",
   "mimetype": "text/x-python",
   "name": "python",
   "nbconvert_exporter": "python",
   "pygments_lexer": "ipython3",
   "version": "3.10.12"
  }
 },
 "nbformat": 4,
 "nbformat_minor": 4
}
