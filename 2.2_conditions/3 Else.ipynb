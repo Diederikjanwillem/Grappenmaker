{
 "cells": [
  {
   "cell_type": "markdown",
   "metadata": {},
   "source": [
    "# Else\n",
    "\n",
    "We can extend an if-statement with an `else`-clause:\n",
    "\n",
    "```\n",
    "if condition:\n",
    "    code block\n",
    "    with conditional statements\n",
    "else:\n",
    "    code block\n",
    "    with statements that are executed if the\n",
    "    condition is not met\n",
    "this is after the if-else\n",
    "so these lines will be executed regardless of the condition\n",
    "but after the if or else code block\n",
    "```\n",
    "\n",
    "Semantically this is almost the same as:\n",
    "```\n",
    "if condition:\n",
    "    code block\n",
    "    with conditional statements\n",
    "if not condition:\n",
    "    code block\n",
    "    with statements that are executed if the\n",
    "    condition is not met\n",
    "this is after the if-else\n",
    "so these lines will be executed regardless of the condition\n",
    "but after the if or else code block\n",
    "```\n",
    "\n",
    "Except when in the second example, the if conditional statements affect the outcome of the condition.\n"
   ]
  },
  {
   "cell_type": "markdown",
   "metadata": {},
   "source": [
    "# Examples"
   ]
  },
  {
   "cell_type": "markdown",
   "metadata": {},
   "source": [
    "Try the example here, with different values for `a`"
   ]
  },
  {
   "cell_type": "code",
   "execution_count": null,
   "metadata": {},
   "outputs": [],
   "source": [
    "a = 10\n",
    "b = 20\n",
    "if a > 10:\n",
    "    a = a + 10\n",
    "    b = b - 5\n",
    "else:\n",
    "    a = a - 1\n",
    "    b = b + 1\n",
    "f'a={a} b={b}'"
   ]
  },
  {
   "cell_type": "markdown",
   "metadata": {},
   "source": [
    "# Assignments"
   ]
  },
  {
   "cell_type": "markdown",
   "metadata": {},
   "source": [
    "#### Write code to increase the speed by 5 if the number of `road_users` < 5"
   ]
  },
  {
   "cell_type": "code",
   "execution_count": 8,
   "metadata": {
    "tags": []
   },
   "outputs": [],
   "source": [
    "speed = 50\n",
    "road_users = 3"
   ]
  },
  {
   "cell_type": "code",
   "execution_count": 9,
   "metadata": {
    "deletable": false,
    "editable": true,
    "tags": []
   },
   "outputs": [],
   "source": [
    "%%assignment\n",
    "### ENTER YOUR CODE HERE\n",
    "if road_users < 5:\n",
    "    speed += 5"
   ]
  },
  {
   "cell_type": "code",
   "execution_count": 10,
   "metadata": {
    "deletable": false,
    "editable": false,
    "tags": []
   },
   "outputs": [
    {
     "data": {
      "text/html": [
       "<table><tr style=\"background: green; color: white\"><td style=\"text-align:left\">Correct!</td></tr></table>"
      ],
      "text/plain": [
       "<IPython.core.display.HTML object>"
      ]
     },
     "metadata": {
      "text/html": {
       "username": "s23056355"
      }
     },
     "output_type": "display_data"
    }
   ],
   "source": [
    "%%check\n",
    "speed, road_users = 50, 4\n",
    "speed == 55\n",
    "speed, road_users = 40, 5\n",
    "speed == 40"
   ]
  },
  {
   "cell_type": "markdown",
   "metadata": {},
   "source": [
    "#### Increase the speed by 5 if the number of `road_users` < 5 or otherwise decrease the speed by 1"
   ]
  },
  {
   "cell_type": "code",
   "execution_count": 11,
   "metadata": {
    "tags": []
   },
   "outputs": [],
   "source": [
    "speed = 50\n",
    "road_users = 3"
   ]
  },
  {
   "cell_type": "code",
   "execution_count": 12,
   "metadata": {
    "deletable": false,
    "editable": true,
    "tags": []
   },
   "outputs": [],
   "source": [
    "%%assignment\n",
    "### ENTER YOUR CODE HERE\n",
    "if road_users < 5:\n",
    "    speed += 5 \n",
    "else:\n",
    "    speed -= 1"
   ]
  },
  {
   "cell_type": "code",
   "execution_count": 13,
   "metadata": {
    "deletable": false,
    "editable": false,
    "tags": []
   },
   "outputs": [
    {
     "data": {
      "text/html": [
       "<table><tr style=\"background: green; color: white\"><td style=\"text-align:left\">Correct!</td></tr></table>"
      ],
      "text/plain": [
       "<IPython.core.display.HTML object>"
      ]
     },
     "metadata": {
      "text/html": {
       "username": "s23056355"
      }
     },
     "output_type": "display_data"
    }
   ],
   "source": [
    "%%check\n",
    "speed, road_users = 50, 4\n",
    "speed == 55\n",
    "speed, road_users = 40, 5\n",
    "speed == 39"
   ]
  },
  {
   "cell_type": "markdown",
   "metadata": {},
   "source": [
    "#### The variable `price` specifies how much one drink costs. The normal price is \\$3. However, John should receive a special discount. When he buys more than 4 `drinks`, they are \\$2 each. Otherwise he pays the normal fee. Compute the `bill` (which must be the name of the variable) on the order by multiplying `price` with the number of drinks (specified by `drinks`)."
   ]
  },
  {
   "cell_type": "code",
   "execution_count": 20,
   "metadata": {
    "tags": []
   },
   "outputs": [],
   "source": [
    "name = 'John'\n",
    "drinks = 5"
   ]
  },
  {
   "cell_type": "code",
   "execution_count": 23,
   "metadata": {
    "deletable": false,
    "editable": true,
    "tags": []
   },
   "outputs": [],
   "source": [
    "%%assignment\n",
    "### ENTER YOUR CODE HERE\n",
    "if drinks > 4 and  name == 'John':\n",
    "    price = 2\n",
    "    bill = price * drinks\n",
    "else:\n",
    "    price = 3\n",
    "    bill = price * drinks"
   ]
  },
  {
   "cell_type": "code",
   "execution_count": 24,
   "metadata": {
    "deletable": false,
    "editable": false,
    "tags": []
   },
   "outputs": [
    {
     "data": {
      "text/html": [
       "<table><tr style=\"background: green; color: white\"><td style=\"text-align:left\">Correct!</td></tr></table>"
      ],
      "text/plain": [
       "<IPython.core.display.HTML object>"
      ]
     },
     "metadata": {
      "text/html": {
       "username": "s23056355"
      }
     },
     "output_type": "display_data"
    }
   ],
   "source": [
    "%%check\n",
    "name, drinks='John', 5\n",
    "bill == 10\n",
    "name, drinks='John', 4\n",
    "bill == 12\n",
    "name, drinks='Jack', 5\n",
    "bill == 15"
   ]
  },
  {
   "cell_type": "markdown",
   "metadata": {},
   "source": [
    "# Done? Then make a backup using Git, and close and shutdown this notebook (File->Close And Shutdown Notebook)"
   ]
  }
 ],
 "metadata": {
  "celltoolbar": "Create Assignment",
  "kernelspec": {
   "display_name": "prog",
   "language": "python",
   "name": "prog"
  },
  "language_info": {
   "codemirror_mode": {
    "name": "ipython",
    "version": 3
   },
   "file_extension": ".py",
   "mimetype": "text/x-python",
   "name": "python",
   "nbconvert_exporter": "python",
   "pygments_lexer": "ipython3",
   "version": "3.10.12"
  }
 },
 "nbformat": 4,
 "nbformat_minor": 4
}
