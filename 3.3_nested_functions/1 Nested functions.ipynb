{
 "cells": [
  {
   "cell_type": "markdown",
   "metadata": {},
   "source": [
    "# Nested functions\n",
    "\n",
    "We can call functions from any code block. Therefore, we can also call a function from another function."
   ]
  },
  {
   "cell_type": "markdown",
   "metadata": {},
   "source": [
    "# Example"
   ]
  },
  {
   "cell_type": "markdown",
   "metadata": {},
   "source": [
    "There are two functions: `membership_costs` to determine how much someone has to pay to be member of a club, and `paper_costs` how much they have to pay additionally if they want a paper version of the monthly magazine."
   ]
  },
  {
   "cell_type": "code",
   "execution_count": 13,
   "metadata": {
    "tags": []
   },
   "outputs": [],
   "source": [
    "def membership_costs(age):\n",
    "    \"\"\"returns the costs of a membership, based on their age\"\"\"\n",
    "    if age >= 25:\n",
    "        return 50\n",
    "    else:\n",
    "        return 25\n",
    "    \n",
    "def paper_costs(age, paper_magazine):\n",
    "    \"\"\"\n",
    "    returns tha costs for a paper_magazine, depending on their age\n",
    "    age: the age of the member\n",
    "    paper_magazine: True if the member requested a paper magazine\n",
    "    \"\"\"\n",
    "    if paper_magazine:\n",
    "        if age >= 40:\n",
    "            return 40\n",
    "        if age >= 20:\n",
    "            return 20\n",
    "    return 0"
   ]
  },
  {
   "cell_type": "markdown",
   "metadata": {},
   "source": [
    "We can combine these in a function `total_costs`. It is good coding practice to assign disjoint tasks to separate functions (membership costs is not related to paper_costs). By choosing meaningful function names for these two functions, we can create a third function to compute the total costs. Notice how the meaningful function names improve the readability of the function `member_total_costs`. "
   ]
  },
  {
   "cell_type": "code",
   "execution_count": 14,
   "metadata": {
    "tags": []
   },
   "outputs": [],
   "source": [
    "def member_total_costs(age, paper_magazine):\n",
    "    return membership_costs(age) + paper_costs(age, paper_magazine)"
   ]
  },
  {
   "cell_type": "markdown",
   "metadata": {},
   "source": [
    "So someone that is 50 years old and wants a paper magazine will have to pay:"
   ]
  },
  {
   "cell_type": "code",
   "execution_count": 15,
   "metadata": {
    "tags": []
   },
   "outputs": [
    {
     "data": {
      "text/plain": [
       "90"
      ]
     },
     "execution_count": 15,
     "metadata": {},
     "output_type": "execute_result"
    }
   ],
   "source": [
    "member_total_costs(50, True)"
   ]
  },
  {
   "cell_type": "markdown",
   "metadata": {},
   "source": [
    "# Assignments"
   ]
  },
  {
   "cell_type": "markdown",
   "metadata": {},
   "source": [
    "#### Write a function `member_discount` that will give kids until the `age` of 12 a discount of 5 for every family member that is also a member. There is a maximum discount of 10.\n",
    "\n",
    "For this the function should also accept a parameter `family_members` which is the number of family members that is also a member of the club."
   ]
  },
  {
   "cell_type": "code",
   "execution_count": 16,
   "metadata": {
    "deletable": false,
    "editable": true,
    "tags": []
   },
   "outputs": [],
   "source": [
    "%%assignment\n",
    "### ENTER YOUR CODE HERE\n",
    "def member_discount(age,family_members):\n",
    "    if family_members > 1 and age < 12:\n",
    "        \n",
    "        return 10\n",
    "    elif family_members == 1 and age < 12:\n",
    "        return 5\n",
    " \n",
    "    else:\n",
    "        return 0"
   ]
  },
  {
   "cell_type": "code",
   "execution_count": 17,
   "metadata": {
    "deletable": false,
    "editable": false,
    "tags": []
   },
   "outputs": [
    {
     "data": {
      "text/html": [
       "<table><tr style=\"background: green; color: white\"><td style=\"text-align:left\">Correct!</td></tr></table>"
      ],
      "text/plain": [
       "<IPython.core.display.HTML object>"
      ]
     },
     "metadata": {
      "text/html": {
       "username": "s23056355"
      }
     },
     "output_type": "display_data"
    }
   ],
   "source": [
    "%%check\n",
    "member_discount(12, 2) == 0 # kids that are 12 do not receive discount\n",
    "member_discount(11, 0) == 0\n",
    "member_discount(11, 1) == 5\n",
    "member_discount(11, 2) == 10\n",
    "member_discount(11, 3) == 10"
   ]
  },
  {
   "cell_type": "markdown",
   "metadata": {},
   "source": [
    "#### Now rewrite `member_total_costs` to include `member_discount`, which is to be subtracted from the costs. `family_members` should be a keyword parameter with a default value of 0."
   ]
  },
  {
   "cell_type": "code",
   "execution_count": 26,
   "metadata": {
    "deletable": false,
    "editable": true,
    "tags": []
   },
   "outputs": [],
   "source": [
    "%%assignment\n",
    "### ENTER YOUR CODE HERE\n",
    "def member_total_costs(age, paper_magazine,family_members=0):\n",
    "    if age < 12:\n",
    "        d = member_discount(age,family_members)\n",
    "        return membership_costs(age) + paper_costs(age, paper_magazine) - d\n",
    "    else:\n",
    "        \n",
    "        return membership_costs(age) + paper_costs(age, paper_magazine)\n",
    "    "
   ]
  },
  {
   "cell_type": "code",
   "execution_count": 27,
   "metadata": {
    "deletable": false,
    "editable": false,
    "tags": []
   },
   "outputs": [
    {
     "data": {
      "text/html": [
       "<table><tr style=\"background: green; color: white\"><td style=\"text-align:left\">Correct!</td></tr></table>"
      ],
      "text/plain": [
       "<IPython.core.display.HTML object>"
      ]
     },
     "metadata": {
      "text/html": {
       "username": "s23056355"
      }
     },
     "output_type": "display_data"
    }
   ],
   "source": [
    "%%check\n",
    "signature member_total_costs +age paper_magazine family_members=0\n",
    "member_total_costs(11, False, 1) == 20\n",
    "member_total_costs(12, True, 1) == 25\n",
    "member_total_costs(40, False) == 50\n",
    "member_total_costs(40, True, 1) == 90"
   ]
  },
  {
   "cell_type": "markdown",
   "metadata": {},
   "source": [
    "# Done? Then make a backup using Git, and close and shutdown this notebook (File->Close And Shutdown Notebook)"
   ]
  },
  {
   "cell_type": "code",
   "execution_count": null,
   "metadata": {},
   "outputs": [],
   "source": []
  },
  {
   "cell_type": "code",
   "execution_count": null,
   "metadata": {},
   "outputs": [],
   "source": []
  }
 ],
 "metadata": {
  "celltoolbar": "Create Assignment",
  "kernelspec": {
   "display_name": "prog",
   "language": "python",
   "name": "prog"
  },
  "language_info": {
   "codemirror_mode": {
    "name": "ipython",
    "version": 3
   },
   "file_extension": ".py",
   "mimetype": "text/x-python",
   "name": "python",
   "nbconvert_exporter": "python",
   "pygments_lexer": "ipython3",
   "version": "3.10.12"
  }
 },
 "nbformat": 4,
 "nbformat_minor": 4
}
