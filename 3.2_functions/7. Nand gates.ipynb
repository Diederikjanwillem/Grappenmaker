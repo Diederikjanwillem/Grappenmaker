{
 "cells": [
  {
   "cell_type": "markdown",
   "id": "30b32423",
   "metadata": {},
   "source": [
    "# Nand gates"
   ]
  },
  {
   "cell_type": "markdown",
   "id": "3ae1117b",
   "metadata": {},
   "source": [
    "In electronics, logical operators come in integrated circuit blocks. Sometimes only ICs with nand functionality are available. for this exercise, you do not have to understand electronics.\n",
    "\n",
    "We are going to explore the possibility to create every thinkable logic operation with only making use of nand operators."
   ]
  },
  {
   "cell_type": "markdown",
   "id": "fba93565",
   "metadata": {},
   "source": [
    "First, we are going to make a `nand` function. The truth table of this function is given below.\n",
    "\n",
    "$p$ | $q$ | nand $$ \\neg (p \\wedge q)$$\n",
    ":-----:|:-----:|:-----:\n",
    "False | False | True \n",
    "False | True | True \n",
    "True | False | True \n",
    "True | True | False \n"
   ]
  },
  {
   "cell_type": "markdown",
   "id": "4bfeaf68",
   "metadata": {},
   "source": [
    "# Assignments"
   ]
  },
  {
   "cell_type": "markdown",
   "id": "485a9bbf",
   "metadata": {},
   "source": [
    "#### Make a function `nand` that has two input arguments `p` and 'q' and as result gives `p nand q`."
   ]
  },
  {
   "cell_type": "code",
   "execution_count": 1,
   "id": "3a50d8c7",
   "metadata": {
    "deletable": false,
    "editable": true,
    "tags": []
   },
   "outputs": [],
   "source": [
    "%%assignment\n",
    "### ENTER YOUR CODE HERE  \n",
    "def nand(p,q):\n",
    "    if p == False and q == False:\n",
    "        return True\n",
    "    elif p == False and q == True:\n",
    "        return True \n",
    "    elif p == True and q == False:\n",
    "        return True\n",
    "    else:\n",
    "        return False\n",
    "    "
   ]
  },
  {
   "cell_type": "code",
   "execution_count": 2,
   "id": "5ec197c1",
   "metadata": {
    "deletable": false,
    "editable": false,
    "tags": []
   },
   "outputs": [
    {
     "data": {
      "text/html": [
       "<table><tr style=\"background: green; color: white\"><td style=\"text-align:left\">Correct!</td></tr></table>"
      ],
      "text/plain": [
       "<IPython.core.display.HTML object>"
      ]
     },
     "metadata": {
      "text/html": {
       "username": "s23056355"
      }
     },
     "output_type": "display_data"
    }
   ],
   "source": [
    "%%check\n",
    "mandatory nand p q\n",
    "nand(False, False) == True\n",
    "nand(False, True) == True\n",
    "nand(True, False) == True\n",
    "nand(True, True) == False"
   ]
  },
  {
   "cell_type": "markdown",
   "id": "7e7bf399",
   "metadata": {},
   "source": [
    "#### Make a function `negation` that performs the not operation\n",
    "The function should have one input parameter and the body of the function can only use the `nand` function from above."
   ]
  },
  {
   "cell_type": "code",
   "execution_count": 3,
   "id": "de5996d1",
   "metadata": {
    "deletable": false,
    "editable": true,
    "tags": []
   },
   "outputs": [],
   "source": [
    "%%assignment\n",
    "### ENTER YOUR CODE HERE\n",
    "def negation(nand):\n",
    "    if nand == False:\n",
    "        return True \n",
    "    else:\n",
    "        return False"
   ]
  },
  {
   "cell_type": "code",
   "execution_count": 4,
   "id": "0ab8b509",
   "metadata": {
    "deletable": false,
    "editable": false,
    "tags": []
   },
   "outputs": [
    {
     "data": {
      "text/html": [
       "<table><tr style=\"background: green; color: white\"><td style=\"text-align:left\">Correct!</td></tr></table>"
      ],
      "text/plain": [
       "<IPython.core.display.HTML object>"
      ]
     },
     "metadata": {
      "text/html": {
       "username": "s23056355"
      }
     },
     "output_type": "display_data"
    }
   ],
   "source": [
    "%%check\n",
    "mandatory negation nand\n",
    "forbidden not or\n",
    "negation(False) == True\n",
    "negation(True) == False"
   ]
  },
  {
   "cell_type": "markdown",
   "id": "fcde805f",
   "metadata": {},
   "source": [
    "#### Make a function `conjunction` that performs the and operation\n",
    "The function should have two input parameters and the body of the function can only use the `nand` function from above."
   ]
  },
  {
   "cell_type": "code",
   "execution_count": 7,
   "id": "a1a1ee20",
   "metadata": {
    "deletable": false,
    "editable": true,
    "tags": []
   },
   "outputs": [],
   "source": [
    "%%assignment\n",
    "### ENTER YOUR CODE HERE\n",
    "def conjunction(a,b):\n",
    "    check = nand(a,b)\n",
    "    if a == True and b == True:\n",
    "        return True \n",
    "    else:\n",
    "        return False"
   ]
  },
  {
   "cell_type": "code",
   "execution_count": 8,
   "id": "7f0dafc5",
   "metadata": {
    "deletable": false,
    "editable": false,
    "tags": []
   },
   "outputs": [
    {
     "data": {
      "text/html": [
       "<table><tr style=\"background: green; color: white\"><td style=\"text-align:left\">Correct!</td></tr></table>"
      ],
      "text/plain": [
       "<IPython.core.display.HTML object>"
      ]
     },
     "metadata": {
      "text/html": {
       "username": "s23056355"
      }
     },
     "output_type": "display_data"
    }
   ],
   "source": [
    "%%check\n",
    "mandatory conjunction nand\n",
    "forbidden not or\n",
    "conjunction(False, False) == False\n",
    "conjunction(False, True) == False\n",
    "conjunction(True, False) == False\n",
    "conjunction(True, True) == True"
   ]
  },
  {
   "cell_type": "markdown",
   "id": "dffa3a54",
   "metadata": {},
   "source": [
    "#### Make a function `implication` that performs the implication\n",
    "The function should have two input parameters and the body of the function can only use the `nand` function from above.\n",
    "\n",
    "$p$ | $q$ | implication $$p \\Rightarrow q$$\n",
    ":-----:|:-----:|:-----:\n",
    "False | False | True\n",
    "False | True | True\n",
    "True | False | False\n",
    "True | True | True\n"
   ]
  },
  {
   "cell_type": "code",
   "execution_count": 11,
   "id": "dd4f3dba",
   "metadata": {
    "deletable": false,
    "editable": true,
    "tags": []
   },
   "outputs": [],
   "source": [
    "%%assignment\n",
    "### ENTER YOUR CODE HERE\n",
    "def implication(a,b):\n",
    "    check = nand(a,b)\n",
    "    if a == True and b == False:\n",
    "        return False \n",
    "    else: \n",
    "        \n",
    "        return True"
   ]
  },
  {
   "cell_type": "code",
   "execution_count": 12,
   "id": "632172d7",
   "metadata": {
    "deletable": false,
    "editable": false,
    "tags": []
   },
   "outputs": [
    {
     "data": {
      "text/html": [
       "<table><tr style=\"background: green; color: white\"><td style=\"text-align:left\">Correct!</td></tr></table>"
      ],
      "text/plain": [
       "<IPython.core.display.HTML object>"
      ]
     },
     "metadata": {
      "text/html": {
       "username": "s23056355"
      }
     },
     "output_type": "display_data"
    }
   ],
   "source": [
    "%%check\n",
    "mandatory implication nand\n",
    "forbidden not or\n",
    "implication(False, False) == True\n",
    "implication(False, True) == True\n",
    "implication(True, False) == False\n",
    "implication(True, True) == True"
   ]
  },
  {
   "cell_type": "markdown",
   "id": "bb93b30d-12da-4e8d-afc1-8e1158a4c962",
   "metadata": {},
   "source": [
    "# Done? Then make a backup using Git, and close and shutdown this notebook (File->Close And Shutdown Notebook)"
   ]
  }
 ],
 "metadata": {
  "kernelspec": {
   "display_name": "prog",
   "language": "python",
   "name": "prog"
  },
  "language_info": {
   "codemirror_mode": {
    "name": "ipython",
    "version": 3
   },
   "file_extension": ".py",
   "mimetype": "text/x-python",
   "name": "python",
   "nbconvert_exporter": "python",
   "pygments_lexer": "ipython3",
   "version": "3.10.12"
  }
 },
 "nbformat": 4,
 "nbformat_minor": 5
}
