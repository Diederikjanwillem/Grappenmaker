{
 "cells": [
  {
   "cell_type": "markdown",
   "metadata": {},
   "source": [
    "# Range\n",
    "\n",
    "Often, we would like to go over a sequence of integers. For example, when we want to go over a range of indices in a List or a String. To create a sequence of whole numbers, Python has the `range` function. We typically use `range` in a for-loop, to iterate over a range."
   ]
  },
  {
   "cell_type": "markdown",
   "metadata": {},
   "source": [
    "| code | equivalent | comment |\n",
    "|:-----|:-------|:--------|\n",
    "| range(2, 5) | [ 2, 3, 4 ] | returns a sequence of integers, starting from 2 ending with 5 (the end is exclusive) |\n",
    "| range(3) | [ 0, 1, 2 ] | If one number is given, a default value of 0 is used for the start, and the argument is used as end value (exclusive) |\n",
    "| range(2, 10, 3) | [ 2, 5, 8 ] | If a third argument is given, this is the step-size that the difference between the values in the sequence. If not a step-size=1 is used |\n",
    "| range(10, 2, -3) | [ 10, 7, 4 ] | The stepsize can also be negative |\n",
    "| range(-2, 2) | [ -2, -1, 0, 1 ] | You can also use negative numbers as start and end. |"
   ]
  },
  {
   "cell_type": "markdown",
   "metadata": {},
   "source": [
    "# Assignments"
   ]
  },
  {
   "cell_type": "markdown",
   "metadata": {},
   "source": [
    "#### Write a range for a sequence of grades from 1, 2, 3, ... 10. The 10 being inclusive!"
   ]
  },
  {
   "cell_type": "code",
   "execution_count": 19,
   "metadata": {
    "deletable": false,
    "editable": true,
    "tags": []
   },
   "outputs": [
    {
     "data": {
      "text/plain": [
       "range(1, 11)"
      ]
     },
     "execution_count": 19,
     "metadata": {},
     "output_type": "execute_result"
    }
   ],
   "source": [
    "%%assignment\n",
    "### ENTER YOUR CODE HERE\n",
    "range(1,11)"
   ]
  },
  {
   "cell_type": "code",
   "execution_count": 20,
   "metadata": {
    "deletable": false,
    "editable": false,
    "tags": []
   },
   "outputs": [
    {
     "data": {
      "text/html": [
       "<table><tr style=\"background: green; color: white\"><td style=\"text-align:left\">Correct!</td></tr></table>"
      ],
      "text/plain": [
       "<IPython.core.display.HTML object>"
      ]
     },
     "metadata": {
      "text/html": {
       "username": "s23056355"
      }
     },
     "output_type": "display_data"
    }
   ],
   "source": [
    "%%check\n",
    "len(result) == 10\n",
    "type(result) == range\n",
    "1 in result\n",
    "10 in result"
   ]
  },
  {
   "cell_type": "markdown",
   "metadata": {},
   "source": [
    "#### Write a range for a sequence of grades from 20 going down until -5 (-5 being exclusive)."
   ]
  },
  {
   "cell_type": "code",
   "execution_count": 30,
   "metadata": {
    "deletable": false,
    "editable": true,
    "tags": []
   },
   "outputs": [
    {
     "data": {
      "text/plain": [
       "range(20, -5, -1)"
      ]
     },
     "execution_count": 30,
     "metadata": {},
     "output_type": "execute_result"
    }
   ],
   "source": [
    "%%assignment\n",
    "### ENTER YOUR CODE HERE\n",
    "range(20,-5,-1)\n"
   ]
  },
  {
   "cell_type": "code",
   "execution_count": 31,
   "metadata": {
    "deletable": false,
    "editable": false,
    "tags": []
   },
   "outputs": [
    {
     "data": {
      "text/html": [
       "<table><tr style=\"background: green; color: white\"><td style=\"text-align:left\">Correct!</td></tr></table>"
      ],
      "text/plain": [
       "<IPython.core.display.HTML object>"
      ]
     },
     "metadata": {
      "text/html": {
       "username": "s23056355"
      }
     },
     "output_type": "display_data"
    }
   ],
   "source": [
    "%%check\n",
    "len(result) == 25\n",
    "type(result) == range\n",
    "20 in result\n",
    "4 in result\n",
    "-5 not in result"
   ]
  },
  {
   "cell_type": "markdown",
   "metadata": {},
   "source": [
    "#### Write a range for a sequence of oven temperatures 150, 155, 160, ... , 200."
   ]
  },
  {
   "cell_type": "code",
   "execution_count": 34,
   "metadata": {
    "deletable": false,
    "editable": true,
    "tags": []
   },
   "outputs": [
    {
     "data": {
      "text/plain": [
       "range(150, 205, 5)"
      ]
     },
     "execution_count": 34,
     "metadata": {},
     "output_type": "execute_result"
    }
   ],
   "source": [
    "%%assignment\n",
    "### ENTER YOUR CODE HERE\n",
    "range(150,205,5)"
   ]
  },
  {
   "cell_type": "code",
   "execution_count": 35,
   "metadata": {
    "deletable": false,
    "editable": false,
    "tags": []
   },
   "outputs": [
    {
     "data": {
      "text/html": [
       "<table><tr style=\"background: green; color: white\"><td style=\"text-align:left\">Correct!</td></tr></table>"
      ],
      "text/plain": [
       "<IPython.core.display.HTML object>"
      ]
     },
     "metadata": {
      "text/html": {
       "username": "s23056355"
      }
     },
     "output_type": "display_data"
    }
   ],
   "source": [
    "%%check\n",
    "list(result) == [150,155,160,165,170,175,180,185,190,195,200]\n",
    "type(result) == range"
   ]
  },
  {
   "cell_type": "markdown",
   "metadata": {},
   "source": [
    "# Done? Then make a backup using Git, and close and shutdown this notebook (File->Close And Shutdown Notebook)"
   ]
  }
 ],
 "metadata": {
  "celltoolbar": "Create Assignment",
  "kernelspec": {
   "display_name": "prog",
   "language": "python",
   "name": "prog"
  },
  "language_info": {
   "codemirror_mode": {
    "name": "ipython",
    "version": 3
   },
   "file_extension": ".py",
   "mimetype": "text/x-python",
   "name": "python",
   "nbconvert_exporter": "python",
   "pygments_lexer": "ipython3",
   "version": "3.10.12"
  }
 },
 "nbformat": 4,
 "nbformat_minor": 4
}
