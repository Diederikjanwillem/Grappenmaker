{
 "cells": [
  {
   "cell_type": "markdown",
   "metadata": {},
   "source": [
    "# List Comprehension\n",
    "\n",
    "A Comprehension is a concise and readable way to describe a collection of elements. It uses for-in loop, conditions and expressions. A List Comprehension is written in between `[]`, has at least one for-in loop and an expression, e.g.\n",
    "\n",
    "```\n",
    "a = [2, 3, 5, 7]\n",
    "```\n",
    "\n",
    "| Example      | result | Comment |\n",
    "|:-------------|:-------|:--------|\n",
    "| `[ i**2 for i in a ]` | `[ 4, 9, 25, 49 ]` | squares all the elements in a |\n",
    "| `[ i for i in a if i > 4 ]` | `[5, 7]` | uses only elements that meet the condition `> 4` |\n",
    "| `[ 1/i for i in a if i %% 2 == 1 ]` | `[1/3, 1/5, 1/7]` | uses only odd elements, and returns a List with 1/i for those elements |\n",
    "\n",
    "A comprehension consists of:\n",
    "\n",
    "| begin | expression | loop | condition | end |\n",
    "|:--:|:--:|:--:|:--:|:--:|\n",
    "| `[` | `1/i` | `for i in a` | `if i % 2 == 1` | `]` |\n",
    "| square<br>opening<br>bracket | an expression<br>that is used<br>to calculate<br>each element<br>of the new list | a `for` loop<br>that iterates<br>over a list | a condition<br>that determines<br>whether the element<br>is included<br>(can be omitted) | square<br>closing<br>bracket |\n"
   ]
  },
  {
   "cell_type": "markdown",
   "metadata": {},
   "source": [
    "# Assignments"
   ]
  },
  {
   "cell_type": "markdown",
   "metadata": {},
   "source": [
    "#### Create a comprehension to list only the salaries above 120"
   ]
  },
  {
   "cell_type": "code",
   "execution_count": 1,
   "metadata": {
    "tags": []
   },
   "outputs": [],
   "source": [
    "salaries = [100, 200, 150]"
   ]
  },
  {
   "cell_type": "code",
   "execution_count": 5,
   "metadata": {
    "deletable": false,
    "editable": true,
    "tags": []
   },
   "outputs": [
    {
     "data": {
      "text/plain": [
       "[121, 150]"
      ]
     },
     "execution_count": 5,
     "metadata": {},
     "output_type": "execute_result"
    }
   ],
   "source": [
    "%%assignment\n",
    "\n",
    "### ENTER YOUR CODE HERE\n",
    "\n",
    "[ x for x in salaries if x > 120]\n"
   ]
  },
  {
   "cell_type": "code",
   "execution_count": 6,
   "metadata": {
    "deletable": false,
    "editable": false,
    "tags": []
   },
   "outputs": [
    {
     "data": {
      "text/html": [
       "<table><tr style=\"background: green; color: white\"><td style=\"text-align:left\">Correct!</td></tr></table>"
      ],
      "text/plain": [
       "<IPython.core.display.HTML object>"
      ]
     },
     "metadata": {
      "text/html": {
       "username": "s23056355"
      }
     },
     "output_type": "display_data"
    }
   ],
   "source": [
    "%%check\n",
    "salaries = [100, 200, 150]\n",
    "result == [200, 150]\n",
    "salaries = [121, 120, 100, 150]\n",
    "result == [121, 150]"
   ]
  },
  {
   "cell_type": "markdown",
   "metadata": {},
   "source": [
    "#### Create a comprehension to list only the names of length 4. \n",
    "\n",
    "You can get the length of a Text with the len() function, e.g. len('Jack')"
   ]
  },
  {
   "cell_type": "code",
   "execution_count": 7,
   "metadata": {
    "tags": []
   },
   "outputs": [],
   "source": [
    "names = ['Allesandro', 'John', 'Jack', 'Eugene']"
   ]
  },
  {
   "cell_type": "code",
   "execution_count": 11,
   "metadata": {
    "deletable": false,
    "editable": true,
    "tags": []
   },
   "outputs": [
    {
     "data": {
      "text/plain": [
       "['Mary', 'Zack']"
      ]
     },
     "execution_count": 11,
     "metadata": {},
     "output_type": "execute_result"
    }
   ],
   "source": [
    "%%assignment\n",
    "### ENTER YOUR CODE HERE\n",
    "[x for x in names if len(x) == 4]"
   ]
  },
  {
   "cell_type": "code",
   "execution_count": 12,
   "metadata": {
    "deletable": false,
    "editable": false,
    "tags": []
   },
   "outputs": [
    {
     "data": {
      "text/html": [
       "<table><tr style=\"background: green; color: white\"><td style=\"text-align:left\">Correct!</td></tr></table>"
      ],
      "text/plain": [
       "<IPython.core.display.HTML object>"
      ]
     },
     "metadata": {
      "text/html": {
       "username": "s23056355"
      }
     },
     "output_type": "display_data"
    }
   ],
   "source": [
    "%%check\n",
    "names = ['Allesandro', 'John', 'Jack', 'Eugene']\n",
    "result == ['John', 'Jack']\n",
    "names = ['Mary', 'Peter', 'Zack']\n",
    "result == ['Mary', 'Zack']"
   ]
  },
  {
   "cell_type": "markdown",
   "metadata": {},
   "source": [
    "#### Create a comprehension to list length of the each name in `names`. \n",
    "\n",
    "You can get the length of a Text with the len() function, e.g. len('Jack')"
   ]
  },
  {
   "cell_type": "code",
   "execution_count": 13,
   "metadata": {
    "tags": []
   },
   "outputs": [],
   "source": [
    "names = ['Allesandro', 'John', 'Jack', 'Eugene']"
   ]
  },
  {
   "cell_type": "code",
   "execution_count": 15,
   "metadata": {
    "deletable": false,
    "editable": true,
    "tags": []
   },
   "outputs": [
    {
     "data": {
      "text/plain": [
       "[10, 4, 4, 6]"
      ]
     },
     "execution_count": 15,
     "metadata": {},
     "output_type": "execute_result"
    }
   ],
   "source": [
    "%%assignment\n",
    "### ENTER YOUR CODE HERE\n",
    "[len(x) for x in names]"
   ]
  },
  {
   "cell_type": "code",
   "execution_count": 16,
   "metadata": {
    "deletable": false,
    "editable": false,
    "tags": []
   },
   "outputs": [
    {
     "data": {
      "text/html": [
       "<table><tr style=\"background: green; color: white\"><td style=\"text-align:left\">Correct!</td></tr></table>"
      ],
      "text/plain": [
       "<IPython.core.display.HTML object>"
      ]
     },
     "metadata": {
      "text/html": {
       "username": "s23056355"
      }
     },
     "output_type": "display_data"
    }
   ],
   "source": [
    "%%check\n",
    "names = ['Allesandro', 'John', 'Jack', 'Eugene']\n",
    "result == [10, 4, 4, 6]\n",
    "names = ['Mary', 'Peter', 'Zack']\n",
    "result == [4, 5, 4]"
   ]
  },
  {
   "cell_type": "markdown",
   "metadata": {},
   "source": [
    "#### A person has a `hand` of 5 cards. Create a comprehension with only the cards of the hearts suit. \n",
    "\n",
    "You can get the suit of a card by indexing the last character, e.g. '10♥'[-1], if that last character equals '♥', it is a card in the heart suit."
   ]
  },
  {
   "cell_type": "code",
   "execution_count": 17,
   "metadata": {
    "tags": []
   },
   "outputs": [],
   "source": [
    "hand = ['10♥', '5♣', '9♣', '10♦', 'Q♥']"
   ]
  },
  {
   "cell_type": "code",
   "execution_count": 19,
   "metadata": {
    "deletable": false,
    "editable": true,
    "tags": []
   },
   "outputs": [
    {
     "data": {
      "text/plain": [
       "['10♥', 'Q♥']"
      ]
     },
     "execution_count": 19,
     "metadata": {},
     "output_type": "execute_result"
    }
   ],
   "source": [
    "%%assignment\n",
    "### ENTER YOUR CODE HERE\n",
    "[ x for x in hand if x[-1] == \"♥\"]"
   ]
  },
  {
   "cell_type": "code",
   "execution_count": 20,
   "metadata": {
    "deletable": false,
    "editable": false,
    "tags": []
   },
   "outputs": [
    {
     "data": {
      "text/html": [
       "<table><tr style=\"background: green; color: white\"><td style=\"text-align:left\">Correct!</td></tr></table>"
      ],
      "text/plain": [
       "<IPython.core.display.HTML object>"
      ]
     },
     "metadata": {
      "text/html": {
       "username": "s23056355"
      }
     },
     "output_type": "display_data"
    }
   ],
   "source": [
    "%%check\n",
    "hand = ['10♥', '5♣', '9♣', '10♦', 'Q♥']\n",
    "result == ['10♥', 'Q♥']\n",
    "hand = ['10♠', '5♥', 'A♥', '10♦', 'Q♣']\n",
    "result == ['5♥', 'A♥']"
   ]
  },
  {
   "cell_type": "markdown",
   "metadata": {},
   "source": [
    "#### A person has a `hand` of 5 cards. How many cards do they hold in the hearts suit? \n",
    "In other words, count the number of heart cards."
   ]
  },
  {
   "cell_type": "code",
   "execution_count": 21,
   "metadata": {
    "tags": []
   },
   "outputs": [],
   "source": [
    "hand = ['10♥', '5♣', '9♣', '10♦', 'Q♥']"
   ]
  },
  {
   "cell_type": "code",
   "execution_count": 24,
   "metadata": {
    "deletable": false,
    "editable": true,
    "tags": []
   },
   "outputs": [
    {
     "data": {
      "text/plain": [
       "2"
      ]
     },
     "execution_count": 24,
     "metadata": {},
     "output_type": "execute_result"
    }
   ],
   "source": [
    "%%assignment\n",
    "### ENTER YOUR CODE HERE\n",
    "a = [ x for x in hand if x[-1] == \"♥\"]\n",
    "len(a)"
   ]
  },
  {
   "cell_type": "code",
   "execution_count": 25,
   "metadata": {
    "deletable": false,
    "editable": false,
    "tags": []
   },
   "outputs": [
    {
     "data": {
      "text/html": [
       "<table><tr style=\"background: green; color: white\"><td style=\"text-align:left\">Correct!</td></tr></table>"
      ],
      "text/plain": [
       "<IPython.core.display.HTML object>"
      ]
     },
     "metadata": {
      "text/html": {
       "username": "s23056355"
      }
     },
     "output_type": "display_data"
    }
   ],
   "source": [
    "%%check\n",
    "hand = ['10♥', '5♣', '9♣', '10♦', 'Q♥']\n",
    "result == 2\n",
    "hand = ['10♥', '5♥', 'A♥', '2♥', 'Q♥']\n",
    "result == 5"
   ]
  },
  {
   "cell_type": "markdown",
   "metadata": {},
   "source": [
    "#### Convert the list `degrees` into a list of radians. \n",
    "\n",
    "To compute a radian from a degree, you can use the formula $\\frac{degree \\cdot \\pi}{180} $, and for $\\pi$ you can use `math.pi`."
   ]
  },
  {
   "cell_type": "code",
   "execution_count": 26,
   "metadata": {
    "tags": []
   },
   "outputs": [],
   "source": [
    "degrees = [0, 90, 180, 270, 360]"
   ]
  },
  {
   "cell_type": "code",
   "execution_count": 27,
   "metadata": {
    "deletable": false,
    "editable": true,
    "tags": []
   },
   "outputs": [
    {
     "data": {
      "text/plain": [
       "[0.0,\n",
       " 1.5707963267948966,\n",
       " 3.141592653589793,\n",
       " 4.71238898038469,\n",
       " 6.283185307179586]"
      ]
     },
     "execution_count": 27,
     "metadata": {},
     "output_type": "execute_result"
    }
   ],
   "source": [
    "%%assignment\n",
    "### ENTER YOUR CODE HERE\n",
    "import math as m\n",
    "[x*m.pi/180 for x in degrees]"
   ]
  },
  {
   "cell_type": "code",
   "execution_count": 28,
   "metadata": {
    "deletable": false,
    "editable": false,
    "tags": []
   },
   "outputs": [
    {
     "data": {
      "text/html": [
       "<table><tr style=\"background: green; color: white\"><td style=\"text-align:left\">Correct!</td></tr></table>"
      ],
      "text/plain": [
       "<IPython.core.display.HTML object>"
      ]
     },
     "metadata": {
      "text/html": {
       "username": "s23056355"
      }
     },
     "output_type": "display_data"
    }
   ],
   "source": [
    "%%check\n",
    "degrees = [0, 90, 180, 270, 360]\n",
    "result == [0, math.pi/2, math.pi, 3 * math.pi / 2, 2 * math.pi]\n",
    "degrees = [0, 45, 270]\n",
    "result == [0, math.pi/4, 3 * math.pi / 2]"
   ]
  },
  {
   "cell_type": "markdown",
   "metadata": {},
   "source": [
    "#### What do you think is the result from\n",
    "\n",
    "```\n",
    "a = [2, 6, 7]\n",
    "sum([ i for i in a ])\n",
    "```"
   ]
  },
  {
   "cell_type": "code",
   "execution_count": 33,
   "metadata": {
    "nbgrader": {
     "grade": false,
     "grade_id": "cell-3a58136346e6002e",
     "locked": true,
     "schema_version": 3,
     "solution": false,
     "task": false
    },
    "tags": []
   },
   "outputs": [
    {
     "data": {
      "application/vnd.jupyter.widget-view+json": {
       "model_id": "55afa790cb3a4a6daabea30f79f0c1a8",
       "version_major": 2,
       "version_minor": 0
      },
      "text/plain": [
       "IntSlider(value=2, max=40, min=2)"
      ]
     },
     "metadata": {},
     "output_type": "display_data"
    }
   ],
   "source": [
    "%%slider comprehension1\n",
    "2 40"
   ]
  },
  {
   "cell_type": "code",
   "execution_count": 34,
   "metadata": {
    "deletable": false,
    "editable": false,
    "tags": []
   },
   "outputs": [
    {
     "data": {
      "text/html": [
       "<table><tr style=\"background: green; color: white\"><td style=\"text-align:left\">Correct!</td></tr></table>"
      ],
      "text/plain": [
       "<IPython.core.display.HTML object>"
      ]
     },
     "metadata": {
      "text/html": {
       "username": "s23056355"
      }
     },
     "output_type": "display_data"
    }
   ],
   "source": [
    "%%check\n",
    "result == 6904699078127603"
   ]
  },
  {
   "cell_type": "markdown",
   "metadata": {},
   "source": [
    "#### What do you think is the result from\n",
    "\n",
    "```\n",
    "a = [2, 6, 7]\n",
    "sum([ i*2 + 1 for i in a ])\n",
    "```"
   ]
  },
  {
   "cell_type": "code",
   "execution_count": 35,
   "metadata": {
    "nbgrader": {
     "grade": false,
     "grade_id": "cell-1bbd7e14901754ab",
     "locked": true,
     "schema_version": 3,
     "solution": false,
     "task": false
    },
    "tags": []
   },
   "outputs": [
    {
     "data": {
      "application/vnd.jupyter.widget-view+json": {
       "model_id": "cdf09719206d42d785ad1dcd07727e3b",
       "version_major": 2,
       "version_minor": 0
      },
      "text/plain": [
       "IntSlider(value=2, max=40, min=2)"
      ]
     },
     "metadata": {},
     "output_type": "display_data"
    }
   ],
   "source": [
    "%%slider comprehension2\n",
    "2 40"
   ]
  },
  {
   "cell_type": "code",
   "execution_count": 36,
   "metadata": {
    "deletable": false,
    "editable": false,
    "tags": []
   },
   "outputs": [
    {
     "data": {
      "text/html": [
       "<table><tr style=\"background: green; color: white\"><td style=\"text-align:left\">Correct!</td></tr></table>"
      ],
      "text/plain": [
       "<IPython.core.display.HTML object>"
      ]
     },
     "metadata": {
      "text/html": {
       "username": "s23056355"
      }
     },
     "output_type": "display_data"
    }
   ],
   "source": [
    "%%check\n",
    "result == 3479265394572654"
   ]
  },
  {
   "cell_type": "markdown",
   "metadata": {},
   "source": [
    "#### What do you think is the result from\n",
    "\n",
    "```\n",
    "a = [2, 6, 7]\n",
    "sum([ i/2 for i in a if i < 7 ])\n",
    "```"
   ]
  },
  {
   "cell_type": "code",
   "execution_count": 37,
   "metadata": {
    "nbgrader": {
     "grade": false,
     "grade_id": "cell-9965d6fb7a93f153",
     "locked": true,
     "schema_version": 3,
     "solution": false,
     "task": false
    },
    "tags": []
   },
   "outputs": [
    {
     "data": {
      "application/vnd.jupyter.widget-view+json": {
       "model_id": "18bf8fb315da48d6b7e047ba83b01017",
       "version_major": 2,
       "version_minor": 0
      },
      "text/plain": [
       "IntSlider(value=2, max=40, min=2)"
      ]
     },
     "metadata": {},
     "output_type": "display_data"
    }
   ],
   "source": [
    "%%slider comprehension3\n",
    "2 40"
   ]
  },
  {
   "cell_type": "code",
   "execution_count": 39,
   "metadata": {
    "deletable": false,
    "editable": false,
    "tags": []
   },
   "outputs": [
    {
     "data": {
      "text/html": [
       "<table><tr style=\"background: green; color: white\"><td style=\"text-align:left\">Correct!</td></tr></table>"
      ],
      "text/plain": [
       "<IPython.core.display.HTML object>"
      ]
     },
     "metadata": {
      "text/html": {
       "username": "s23056355"
      }
     },
     "output_type": "display_data"
    }
   ],
   "source": [
    "%%check\n",
    "result == 4320508706361900"
   ]
  },
  {
   "cell_type": "markdown",
   "metadata": {},
   "source": [
    "# Done? Then make a backup using Git, and close and shutdown this notebook (File->Close And Shutdown Notebook)"
   ]
  }
 ],
 "metadata": {
  "celltoolbar": "Create Assignment",
  "kernelspec": {
   "display_name": "prog",
   "language": "python",
   "name": "prog"
  },
  "language_info": {
   "codemirror_mode": {
    "name": "ipython",
    "version": 3
   },
   "file_extension": ".py",
   "mimetype": "text/x-python",
   "name": "python",
   "nbconvert_exporter": "python",
   "pygments_lexer": "ipython3",
   "version": "3.10.12"
  }
 },
 "nbformat": 4,
 "nbformat_minor": 4
}
